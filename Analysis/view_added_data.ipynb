{
 "cells": [
  {
   "cell_type": "code",
   "execution_count": null,
   "metadata": {},
   "outputs": [],
   "source": [
    "import pandas as pd\n",
    "import os"
   ]
  },
  {
   "cell_type": "code",
   "execution_count": null,
   "metadata": {},
   "outputs": [],
   "source": [
    "classes = dict()\n",
    "names = os.listdir('/root/SonificationProject/Data/New_Data_s/Testing')\n",
    "names.sort()\n",
    "for i, name in enumerate(names):\n",
    "    classes[i] = name"
   ]
  },
  {
   "cell_type": "code",
   "execution_count": null,
   "metadata": {},
   "outputs": [],
   "source": [
    "df = pd.read_json('/root/SonificationProject/Experiments/EfficientNetB7_on_Added_Results/EfficientNetB7_0_perfs.json')\n",
    "df[\"y_pred\"] = df[\"y_pred\"].apply(lambda x: classes[x])\n",
    "df[\"A\"] = df[\"name\"].apply(lambda x: x.split(\"_\")[0])\n",
    "df[\"B\"] = df[\"name\"].apply(lambda x: x.split(\"_\")[2])\n",
    "df.drop(columns=[\"mode\", \"y_true\", \"prevalence\", \"name\"], inplace=True)\n",
    "#Reorder columns\n",
    "df = df[[\"A\", \"B\", \"y_pred\", \"y_scores\"]]\n",
    "df"
   ]
  },
  {
   "cell_type": "code",
   "execution_count": null,
   "metadata": {},
   "outputs": [],
   "source": [
    "df.to_csv('added_data.csv', index=False)\n",
    "df_query = df.query(\"A==y_pred or B==y_pred\")\n",
    "print(f\"Of {len(df)} pertutations of A+B, {df_query.shape[0]} entries ended up where A+B=A or B\")\n",
    "df_rest = df.query(\"A!=y_pred and B!=y_pred\")\n",
    "df_rest.reset_index(inplace=True, drop=True)\n",
    "df_rest"
   ]
  }
 ],
 "metadata": {
  "kernelspec": {
   "display_name": "pytorch",
   "language": "python",
   "name": "python3"
  },
  "language_info": {
   "codemirror_mode": {
    "name": "ipython",
    "version": 3
   },
   "file_extension": ".py",
   "mimetype": "text/x-python",
   "name": "python",
   "nbconvert_exporter": "python",
   "pygments_lexer": "ipython3",
   "version": "3.10.11"
  },
  "orig_nbformat": 4
 },
 "nbformat": 4,
 "nbformat_minor": 2
}
