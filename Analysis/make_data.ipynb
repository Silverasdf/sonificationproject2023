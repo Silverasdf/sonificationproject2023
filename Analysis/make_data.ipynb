{
 "cells": [
  {
   "cell_type": "code",
   "execution_count": 30,
   "metadata": {},
   "outputs": [],
   "source": [
    "import os\n",
    "import sys\n",
    "import shutil"
   ]
  },
  {
   "cell_type": "code",
   "execution_count": 31,
   "metadata": {},
   "outputs": [],
   "source": [
    "source_dir = '/root/SonificationProject/Data/FlamingMoeByDevice'\n",
    "data_dir = '/root/SonificationProject/Data/All_Data_off'"
   ]
  },
  {
   "cell_type": "code",
   "execution_count": 32,
   "metadata": {},
   "outputs": [],
   "source": [
    "for root, dirs, files in os.walk(source_dir):\n",
    "    for file in files:\n",
    "        if root.endswith('on'):\n",
    "            continue\n",
    "        if file.endswith('.png'):\n",
    "            #If directory doesn't exist, make one\n",
    "            if not os.path.exists(os.path.join(data_dir, file.split('_')[0])):\n",
    "                os.makedirs(os.path.join(data_dir, file.split('_')[0]))\n",
    "            #Copy file to directory. If file already exists, make a copy\n",
    "            if not os.path.exists(os.path.join(data_dir, file.split('_')[0], file)):\n",
    "                shutil.copy(os.path.join(root, file), os.path.join(data_dir, file.split('_')[0], file))\n",
    "            else:\n",
    "                shutil.copy(os.path.join(root, file), os.path.join(data_dir, file.split('_')[0], file.split('.')[0] + '_copy.png'))"
   ]
  },
  {
   "cell_type": "code",
   "execution_count": 33,
   "metadata": {},
   "outputs": [
    {
     "name": "stdout",
     "output_type": "stream",
     "text": [
      "Successfully dispersed files to: /root/SonificationProject/Data/New_Data_off\n"
     ]
    }
   ],
   "source": [
    "from cleanup import disperse_files\n",
    "\n",
    "disperse_files(data_dir, '/root/SonificationProject/Data/New_Data_off')"
   ]
  }
 ],
 "metadata": {
  "kernelspec": {
   "display_name": "pytorch",
   "language": "python",
   "name": "python3"
  },
  "language_info": {
   "codemirror_mode": {
    "name": "ipython",
    "version": 3
   },
   "file_extension": ".py",
   "mimetype": "text/x-python",
   "name": "python",
   "nbconvert_exporter": "python",
   "pygments_lexer": "ipython3",
   "version": "3.10.11"
  },
  "orig_nbformat": 4
 },
 "nbformat": 4,
 "nbformat_minor": 2
}
